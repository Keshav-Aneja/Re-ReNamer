{
 "cells": [
  {
   "cell_type": "code",
   "execution_count": 2,
   "id": "f7294ac5-0aa2-4dbb-8eda-8891f0fc97d2",
   "metadata": {},
   "outputs": [],
   "source": [
    "import os\n",
    "import random\n",
    "\n",
    "path_add = 'D:\\\\Background\\\\Background\\\\Bokeh'\n",
    "os.chdir(path_add)\n",
    "t = os.listdir(path_add)\n",
    "for i,ch in enumerate(t):\n",
    "    file_name,ext = os.path.splitext(ch)\n",
    "    if(str(i) in t):\n",
    "        continue\n",
    "    else:\n",
    "        os.rename(ch,str(i)+ext)"
   ]
  },
  {
   "cell_type": "code",
   "execution_count": null,
   "id": "534aac37-c1e0-4aee-9899-c629ed047942",
   "metadata": {},
   "outputs": [],
   "source": []
  },
  {
   "cell_type": "code",
   "execution_count": null,
   "id": "73e60018-af15-4e79-906d-effe120af935",
   "metadata": {},
   "outputs": [],
   "source": []
  }
 ],
 "metadata": {
  "kernelspec": {
   "display_name": "Python 3 (ipykernel)",
   "language": "python",
   "name": "python3"
  },
  "language_info": {
   "codemirror_mode": {
    "name": "ipython",
    "version": 3
   },
   "file_extension": ".py",
   "mimetype": "text/x-python",
   "name": "python",
   "nbconvert_exporter": "python",
   "pygments_lexer": "ipython3",
   "version": "3.11.4"
  }
 },
 "nbformat": 4,
 "nbformat_minor": 5
}
